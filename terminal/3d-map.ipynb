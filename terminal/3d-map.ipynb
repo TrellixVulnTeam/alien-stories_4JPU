{
 "cells": [
  {
   "cell_type": "code",
   "execution_count": 8,
   "id": "268dbc1c",
   "metadata": {},
   "outputs": [],
   "source": [
    "import ipyvolume as ipv\n",
    "import numpy as np"
   ]
  },
  {
   "cell_type": "code",
   "execution_count": 15,
   "id": "b1bcc867",
   "metadata": {},
   "outputs": [],
   "source": [
    "from typing import Iterable, List\n",
    "from collections import namedtuple\n",
    "import csv\n",
    "import math\n",
    "from io import TextIOWrapper\n",
    "from zipfile import ZipFile\n",
    "\n",
    "\n",
    "PC_TO_LIGHT_YEAR = 0.3066014\n",
    "\n",
    "System = namedtuple('System', \n",
    "    ['hab_hyg_idx', 'hip_idx', 'is_hab', 'display_name', 'Hyg_idx', \n",
    "     'bf_name', 'gliese_idx', 'bd_idx', 'hd_idx', 'hr_idx', 'proper_name', \n",
    "     'spectral_class', 'distance', 'x', 'y', 'z', 'abs_mag'])\n",
    "\n",
    "\n",
    "def load_starmap():\n",
    "    systems = {}\n",
    "    with ZipFile('HabHYG.zip') as zf:\n",
    "        with zf.open('HabHYG.csv', 'r') as file:\n",
    "            reader = csv.reader(TextIOWrapper(file, 'iso-8859-1'))\n",
    "            for i, row in enumerate(reader):\n",
    "                if i != 0:\n",
    "                    assert row[0] not in systems.keys()\n",
    "                    systems[row[0]] = System(*row)\n",
    "    return systems\n",
    "\n",
    "\n",
    "def dist_sqr(pos1: Iterable[float], pos2: Iterable[float]) -> float:\n",
    "    return sum(math.pow(p2 - p1, 2.0) for p1, p2 in zip(pos1, pos2))\n",
    "\n",
    "\n",
    "def dist(pos1: Iterable[float], pos2: Iterable[float]) -> float:\n",
    "    return math.sqrt(dist_sqr(pos1, pos2))\n",
    "\n",
    "\n",
    "def make_3d_point(sys: System):\n",
    "    return (float(sys.x), float(sys.y), float(sys.z))\n",
    "\n",
    "\n",
    "def dist_sqr_between_systems(sys1: System, sys2: System):\n",
    "    return dist_sqr(make_3d_point(sys1), make_3d_point(sys2))\n",
    "\n",
    "\n",
    "def get_systems_within(\n",
    "        current_system_idx: str, systems: List[System], max_distance: float)\\\n",
    "        -> List:\n",
    "    current_system = systems[current_system_idx]\n",
    "    threshold = math.pow(max_distance, 2)\n",
    "    filter_list = []\n",
    "    for _, system in systems.items():\n",
    "        if dist_sqr_between_systems(current_system, system) <= threshold:\n",
    "            #print(f\"{system.display_name}:\\t{system.spectral_class}\\t{round(float(system.abs_mag), 2)}\")\n",
    "            filter_list.append((float(system.x), float(system.y), float(system.z)))\n",
    "    return filter_list"
   ]
  },
  {
   "cell_type": "code",
   "execution_count": 24,
   "id": "62fbf3a5",
   "metadata": {},
   "outputs": [],
   "source": [
    "systems = load_starmap()\n",
    "coords = get_systems_within('0', systems, 20)\n",
    "x, y, z = zip(*coords)"
   ]
  },
  {
   "cell_type": "code",
   "execution_count": 26,
   "id": "db20bcb2",
   "metadata": {},
   "outputs": [
    {
     "data": {
      "application/vnd.jupyter.widget-view+json": {
       "model_id": "c0ea641e1de34a618c9ad4a889d7a5d1",
       "version_major": 2,
       "version_minor": 0
      },
      "text/plain": [
       "VBox(children=(Figure(camera=PerspectiveCamera(fov=46.0, position=(0.0, 0.0, 2.0), projectionMatrix=(1.0, 0.0,…"
      ]
     },
     "metadata": {},
     "output_type": "display_data"
    }
   ],
   "source": [
    "ipv.quickscatter(np.asarray(x), np.asarray(y), np.asarray(z), size=0.1, marker=\"sphere\")"
   ]
  },
  {
   "cell_type": "code",
   "execution_count": null,
   "id": "d9bad0eb",
   "metadata": {},
   "outputs": [],
   "source": []
  }
 ],
 "metadata": {
  "kernelspec": {
   "display_name": "Python 3 (ipykernel)",
   "language": "python",
   "name": "python3"
  },
  "language_info": {
   "codemirror_mode": {
    "name": "ipython",
    "version": 3
   },
   "file_extension": ".py",
   "mimetype": "text/x-python",
   "name": "python",
   "nbconvert_exporter": "python",
   "pygments_lexer": "ipython3",
   "version": "3.7.6"
  }
 },
 "nbformat": 4,
 "nbformat_minor": 5
}
